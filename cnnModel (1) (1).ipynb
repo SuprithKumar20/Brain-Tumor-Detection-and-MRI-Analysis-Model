{
 "cells": [
  {
   "cell_type": "code",
   "execution_count": 3,
   "id": "7fb19020-7913-4ab6-8b8a-ca0d668d611d",
   "metadata": {},
   "outputs": [
    {
     "name": "stderr",
     "output_type": "stream",
     "text": [
      "C:\\Users\\supri\\anaconda3\\Lib\\site-packages\\keras\\src\\layers\\convolutional\\base_conv.py:107: UserWarning: Do not pass an `input_shape`/`input_dim` argument to a layer. When using Sequential models, prefer using an `Input(shape)` object as the first layer in the model instead.\n",
      "  super().__init__(activity_regularizer=activity_regularizer, **kwargs)\n",
      "C:\\Users\\supri\\anaconda3\\Lib\\site-packages\\keras\\src\\layers\\reshaping\\flatten.py:37: UserWarning: Do not pass an `input_shape`/`input_dim` argument to a layer. When using Sequential models, prefer using an `Input(shape)` object as the first layer in the model instead.\n",
      "  super().__init__(**kwargs)\n"
     ]
    },
    {
     "name": "stdout",
     "output_type": "stream",
     "text": [
      "Epoch 1/10\n",
      "\u001b[1m7/7\u001b[0m \u001b[32m━━━━━━━━━━━━━━━━━━━━\u001b[0m\u001b[37m\u001b[0m \u001b[1m13s\u001b[0m 1s/step - accuracy: 0.5641 - loss: 2.1817 - val_accuracy: 0.8039 - val_loss: 0.6485\n",
      "Epoch 2/10\n",
      "\u001b[1m7/7\u001b[0m \u001b[32m━━━━━━━━━━━━━━━━━━━━\u001b[0m\u001b[37m\u001b[0m \u001b[1m6s\u001b[0m 824ms/step - accuracy: 0.6978 - loss: 0.6382 - val_accuracy: 0.8235 - val_loss: 0.4463\n",
      "Epoch 3/10\n",
      "\u001b[1m7/7\u001b[0m \u001b[32m━━━━━━━━━━━━━━━━━━━━\u001b[0m\u001b[37m\u001b[0m \u001b[1m6s\u001b[0m 895ms/step - accuracy: 0.7575 - loss: 0.5546 - val_accuracy: 0.8039 - val_loss: 0.4325\n",
      "Epoch 4/10\n",
      "\u001b[1m7/7\u001b[0m \u001b[32m━━━━━━━━━━━━━━━━━━━━\u001b[0m\u001b[37m\u001b[0m \u001b[1m6s\u001b[0m 895ms/step - accuracy: 0.7724 - loss: 0.5335 - val_accuracy: 0.8039 - val_loss: 0.4608\n",
      "Epoch 5/10\n",
      "\u001b[1m7/7\u001b[0m \u001b[32m━━━━━━━━━━━━━━━━━━━━\u001b[0m\u001b[37m\u001b[0m \u001b[1m6s\u001b[0m 779ms/step - accuracy: 0.7573 - loss: 0.5159 - val_accuracy: 0.8235 - val_loss: 0.3780\n",
      "Epoch 6/10\n",
      "\u001b[1m7/7\u001b[0m \u001b[32m━━━━━━━━━━━━━━━━━━━━\u001b[0m\u001b[37m\u001b[0m \u001b[1m6s\u001b[0m 787ms/step - accuracy: 0.7721 - loss: 0.5101 - val_accuracy: 0.8039 - val_loss: 0.3795\n",
      "Epoch 7/10\n",
      "\u001b[1m7/7\u001b[0m \u001b[32m━━━━━━━━━━━━━━━━━━━━\u001b[0m\u001b[37m\u001b[0m \u001b[1m10s\u001b[0m 800ms/step - accuracy: 0.8300 - loss: 0.4337 - val_accuracy: 0.9020 - val_loss: 0.3228\n",
      "Epoch 8/10\n",
      "\u001b[1m7/7\u001b[0m \u001b[32m━━━━━━━━━━━━━━━━━━━━\u001b[0m\u001b[37m\u001b[0m \u001b[1m10s\u001b[0m 778ms/step - accuracy: 0.8366 - loss: 0.3847 - val_accuracy: 0.9216 - val_loss: 0.2985\n",
      "Epoch 9/10\n",
      "\u001b[1m7/7\u001b[0m \u001b[32m━━━━━━━━━━━━━━━━━━━━\u001b[0m\u001b[37m\u001b[0m \u001b[1m5s\u001b[0m 770ms/step - accuracy: 0.8168 - loss: 0.3687 - val_accuracy: 0.9216 - val_loss: 0.2712\n",
      "Epoch 10/10\n",
      "\u001b[1m7/7\u001b[0m \u001b[32m━━━━━━━━━━━━━━━━━━━━\u001b[0m\u001b[37m\u001b[0m \u001b[1m10s\u001b[0m 788ms/step - accuracy: 0.8821 - loss: 0.2733 - val_accuracy: 0.9412 - val_loss: 0.2377\n",
      "Epoch 1/10\n",
      "\u001b[1m7/7\u001b[0m \u001b[32m━━━━━━━━━━━━━━━━━━━━\u001b[0m\u001b[37m\u001b[0m \u001b[1m21s\u001b[0m 2s/step - accuracy: 0.5096 - loss: 19.9397 - val_accuracy: 0.3922 - val_loss: 29.5910\n",
      "Epoch 2/10\n",
      "\u001b[1m7/7\u001b[0m \u001b[32m━━━━━━━━━━━━━━━━━━━━\u001b[0m\u001b[37m\u001b[0m \u001b[1m6s\u001b[0m 857ms/step - accuracy: 0.5634 - loss: 25.8490 - val_accuracy: 0.7451 - val_loss: 2.5259\n",
      "Epoch 3/10\n",
      "\u001b[1m7/7\u001b[0m \u001b[32m━━━━━━━━━━━━━━━━━━━━\u001b[0m\u001b[37m\u001b[0m \u001b[1m6s\u001b[0m 866ms/step - accuracy: 0.5914 - loss: 15.9168 - val_accuracy: 0.8431 - val_loss: 1.8410\n",
      "Epoch 4/10\n",
      "\u001b[1m7/7\u001b[0m \u001b[32m━━━━━━━━━━━━━━━━━━━━\u001b[0m\u001b[37m\u001b[0m \u001b[1m6s\u001b[0m 860ms/step - accuracy: 0.6028 - loss: 12.7757 - val_accuracy: 0.7255 - val_loss: 3.9751\n",
      "Epoch 5/10\n",
      "\u001b[1m7/7\u001b[0m \u001b[32m━━━━━━━━━━━━━━━━━━━━\u001b[0m\u001b[37m\u001b[0m \u001b[1m6s\u001b[0m 860ms/step - accuracy: 0.6336 - loss: 13.3294 - val_accuracy: 0.8235 - val_loss: 0.8996\n",
      "Epoch 6/10\n",
      "\u001b[1m7/7\u001b[0m \u001b[32m━━━━━━━━━━━━━━━━━━━━\u001b[0m\u001b[37m\u001b[0m \u001b[1m6s\u001b[0m 854ms/step - accuracy: 0.6275 - loss: 7.6852 - val_accuracy: 0.6471 - val_loss: 2.8703\n",
      "Epoch 7/10\n",
      "\u001b[1m7/7\u001b[0m \u001b[32m━━━━━━━━━━━━━━━━━━━━\u001b[0m\u001b[37m\u001b[0m \u001b[1m6s\u001b[0m 885ms/step - accuracy: 0.6242 - loss: 5.9956 - val_accuracy: 0.8039 - val_loss: 0.7104\n",
      "Epoch 8/10\n",
      "\u001b[1m7/7\u001b[0m \u001b[32m━━━━━━━━━━━━━━━━━━━━\u001b[0m\u001b[37m\u001b[0m \u001b[1m6s\u001b[0m 856ms/step - accuracy: 0.7404 - loss: 3.2687 - val_accuracy: 0.8235 - val_loss: 0.8753\n",
      "Epoch 9/10\n",
      "\u001b[1m7/7\u001b[0m \u001b[32m━━━━━━━━━━━━━━━━━━━━\u001b[0m\u001b[37m\u001b[0m \u001b[1m6s\u001b[0m 863ms/step - accuracy: 0.6678 - loss: 3.5188 - val_accuracy: 0.8431 - val_loss: 0.3759\n",
      "Epoch 10/10\n",
      "\u001b[1m7/7\u001b[0m \u001b[32m━━━━━━━━━━━━━━━━━━━━\u001b[0m\u001b[37m\u001b[0m \u001b[1m6s\u001b[0m 861ms/step - accuracy: 0.6653 - loss: 2.2432 - val_accuracy: 0.8235 - val_loss: 0.3978\n"
     ]
    },
    {
     "name": "stderr",
     "output_type": "stream",
     "text": [
      "WARNING:absl:You are saving your model as an HDF5 file via `model.save()` or `keras.saving.save_model(model)`. This file format is considered legacy. We recommend using instead the native Keras format, e.g. `model.save('my_model.keras')` or `keras.saving.save_model(model, 'my_model.keras')`. \n",
      "WARNING:absl:You are saving your model as an HDF5 file via `model.save()` or `keras.saving.save_model(model)`. This file format is considered legacy. We recommend using instead the native Keras format, e.g. `model.save('my_model.keras')` or `keras.saving.save_model(model, 'my_model.keras')`. \n"
     ]
    },
    {
     "name": "stdout",
     "output_type": "stream",
     "text": [
      "Models saved successfully!\n"
     ]
    }
   ],
   "source": [
    "import tensorflow as tf\n",
    "from tensorflow.keras.models import Sequential\n",
    "from tensorflow.keras.layers import Flatten, Dense, Conv2D, MaxPooling2D, Dropout\n",
    "from tensorflow.keras.preprocessing.image import img_to_array, load_img\n",
    "from sklearn.model_selection import train_test_split\n",
    "import numpy as np\n",
    "import os\n",
    "\n",
    "# Define the model architectures with more descriptive names\n",
    "def create_tumor_detection_model():\n",
    "    model = Sequential([\n",
    "        Conv2D(32, (3, 3), activation='relu', input_shape=(200, 200, 3)),\n",
    "        MaxPooling2D((2, 2)),\n",
    "        Conv2D(64, (3, 3), activation='relu'),\n",
    "        MaxPooling2D((2, 2)),\n",
    "        Conv2D(128, (3, 3), activation='relu'),\n",
    "        MaxPooling2D((2, 2)),\n",
    "        Flatten(),\n",
    "        Dense(128, activation='relu'),\n",
    "        Dropout(0.5),\n",
    "        Dense(1, activation='sigmoid')\n",
    "    ])\n",
    "    model.compile(optimizer='adam', loss='binary_crossentropy', metrics=['accuracy'])\n",
    "    return model\n",
    "\n",
    "def create_mri_analysis_model():\n",
    "    model = Sequential([\n",
    "        Flatten(input_shape=(200, 200, 3)),\n",
    "        Dense(512, activation='relu'),\n",
    "        Dropout(0.5),\n",
    "        Dense(256, activation='relu'),\n",
    "        Dropout(0.5),\n",
    "        Dense(1, activation='sigmoid')\n",
    "    ])\n",
    "    model.compile(optimizer='adam', loss='binary_crossentropy', metrics=['accuracy'])\n",
    "    return model\n",
    "\n",
    "# Function to load images from directories and create a dataset\n",
    "def load_images_from_directory(directory, target_size=(200, 200)):\n",
    "    images = []\n",
    "    labels = []\n",
    "    class_names = ['no', 'yes']  # Changed to 'yes' and 'no' (no tumor, tumor)\n",
    "\n",
    "    for class_name in class_names:\n",
    "        class_folder = os.path.join(directory, class_name)\n",
    "        for filename in os.listdir(class_folder):\n",
    "            file_path = os.path.join(class_folder, filename)\n",
    "            if os.path.isfile(file_path):\n",
    "                image = load_img(file_path, target_size=target_size)\n",
    "                image_array = img_to_array(image) / 255.0  # Normalize the image\n",
    "                images.append(image_array)\n",
    "                labels.append(0 if class_name == 'no' else 1)  # 0 for 'no', 1 for 'yes'\n",
    "\n",
    "    return np.array(images), np.array(labels)\n",
    "\n",
    "# Function to train and save models\n",
    "def train_and_save_models():\n",
    "    # Set paths for data (use your actual paths here)\n",
    "    data_dir = r\"C:\\Users\\supri\\Downloads\\Python\\brain_tumor_dataset\"  \n",
    "    \n",
    "    # Load images and labels\n",
    "    images, labels = load_images_from_directory(data_dir)\n",
    "\n",
    "    # Split the data into training and testing sets using train_test_split\n",
    "    X_train, X_test, y_train, y_test = train_test_split(images, labels, test_size=0.2, random_state=42)\n",
    "\n",
    "    # Create models\n",
    "    tumor_detection_model = create_tumor_detection_model()\n",
    "    mri_analysis_model = create_mri_analysis_model()\n",
    "\n",
    "    # Train models\n",
    "    tumor_detection_model.fit(X_train, y_train, epochs=10, validation_data=(X_test, y_test))\n",
    "    mri_analysis_model.fit(X_train, y_train, epochs=10, validation_data=(X_test, y_test))\n",
    "\n",
    "    # Save models\n",
    "    tumor_detection_model.save('tumor_detection_model.h5')\n",
    "    mri_analysis_model.save('mri_analysis_model.h5')\n",
    "\n",
    "    print(\"Models saved successfully!\")\n",
    "\n",
    "# Run training and saving the models\n",
    "train_and_save_models()\n"
   ]
  },
  {
   "cell_type": "code",
   "execution_count": 1,
   "id": "cd82674a-42b9-4c17-906a-80633f170c04",
   "metadata": {},
   "outputs": [
    {
     "name": "stderr",
     "output_type": "stream",
     "text": [
      "WARNING:absl:Compiled the loaded model, but the compiled metrics have yet to be built. `model.compile_metrics` will be empty until you train or evaluate the model.\n",
      "WARNING:absl:Compiled the loaded model, but the compiled metrics have yet to be built. `model.compile_metrics` will be empty until you train or evaluate the model.\n",
      "C:\\Users\\supri\\anaconda3\\Lib\\site-packages\\gradio\\blocks.py:1020: UserWarning: Cannot load compact. Caught Exception: 404 Client Error: Not Found for url: https://huggingface.co/api/spaces/compact (Request ID: Root=1-675faa09-27464f84411a9866234512fd;0076bf88-d6e6-496d-9c99-45e7d0216115)\n",
      "\n",
      "Sorry, we can't find the page you are looking for.\n",
      "  warnings.warn(f\"Cannot load {theme}. Caught Exception: {str(e)}\")\n"
     ]
    },
    {
     "name": "stdout",
     "output_type": "stream",
     "text": [
      "* Running on local URL:  http://127.0.0.1:7860\n",
      "\n",
      "To create a public link, set `share=True` in `launch()`.\n"
     ]
    },
    {
     "data": {
      "text/html": [
       "<div><iframe src=\"http://127.0.0.1:7860/\" width=\"100%\" height=\"500\" allow=\"autoplay; camera; microphone; clipboard-read; clipboard-write;\" frameborder=\"0\" allowfullscreen></iframe></div>"
      ],
      "text/plain": [
       "<IPython.core.display.HTML object>"
      ]
     },
     "metadata": {},
     "output_type": "display_data"
    },
    {
     "data": {
      "text/plain": []
     },
     "execution_count": 1,
     "metadata": {},
     "output_type": "execute_result"
    }
   ],
   "source": [
    "import tensorflow as tf\n",
    "import gradio as gr\n",
    "from tensorflow.keras.preprocessing.image import img_to_array\n",
    "import numpy as np\n",
    "import random\n",
    "\n",
    "# Load the pre-trained models\n",
    "tumor_detection_model = tf.keras.models.load_model('tumor_detection_model.h5')\n",
    "mri_analysis_model = tf.keras.models.load_model('mri_analysis_model.h5')\n",
    "\n",
    "# Define random stages of brain tumor (You can add more stages if needed)\n",
    "tumor_stages = ['Stage I: Early Stage', 'Stage II: Localized Tumor', 'Stage III: Invasive Tumor', 'Stage IV: Advanced Tumor']\n",
    "\n",
    "# Function to preprocess and predict the image\n",
    "def predict_image(image):\n",
    "    # Resize and normalize the image\n",
    "    image = image.resize((200, 200))\n",
    "    image_array = img_to_array(image) / 255.0\n",
    "    image_array = np.expand_dims(image_array, axis=0)\n",
    "\n",
    "    # Make predictions with both models\n",
    "    tumor_detection_prediction = tumor_detection_model.predict(image_array)\n",
    "    mri_analysis_prediction = mri_analysis_model.predict(image_array)\n",
    "\n",
    "    # Output predictions with confidence scores\n",
    "    tumor_detection_result = \"Brain Tumor Detected\" if tumor_detection_prediction[0][0] > 0.5 else \"No Brain Tumor Detected\"\n",
    "    mri_analysis_result = \"Brain Tumor Detected\" if mri_analysis_prediction[0][0] > 0.5 else \"No Brain Tumor Detected\"\n",
    "\n",
    "    tumor_detection_confidence = round(tumor_detection_prediction[0][0] * 100, 2)\n",
    "    mri_analysis_confidence = round(mri_analysis_prediction[0][0] * 100, 2)\n",
    "\n",
    "    # If tumor is detected, add a disclaimer and a random tumor stage\n",
    "    disclaimer = \"\"\n",
    "    tumor_stage = \"\"\n",
    "    if tumor_detection_prediction[0][0] > 0.5:\n",
    "        disclaimer = \"⚠️ **DISCLAIMER**: Brain tumor detected! Please meet a physician immediately for further consultation.\"\n",
    "        tumor_stage = f\"Possible Tumor Stage: {random.choice(tumor_stages)}\"\n",
    "    \n",
    "    # Format the result\n",
    "    tumor_detection_output = (\n",
    "        f\"Prediction: {tumor_detection_result} (Confidence: {tumor_detection_confidence}%)\\n\"\n",
    "        f\"{tumor_stage}\"\n",
    "    )\n",
    "    \n",
    "    mri_analysis_output = (\n",
    "        f\"Prediction: {mri_analysis_result} (Confidence: {mri_analysis_confidence}%)\"\n",
    "    )\n",
    "\n",
    "    return tumor_detection_output, mri_analysis_output, disclaimer\n",
    "\n",
    "# Design the Gradio interface with a separate disclaimer box\n",
    "gr_interface = gr.Interface(\n",
    "    fn=predict_image,\n",
    "    inputs=gr.Image(type=\"pil\", label=\"Upload MRI Image\"),\n",
    "    outputs=[\n",
    "        gr.Textbox(label=\"Tumor Detection Model Prediction\", interactive=False, placeholder=\"Prediction will appear here...\"),\n",
    "        gr.Textbox(label=\"MRI Analysis Model Prediction\", interactive=False, placeholder=\"Prediction will appear here...\"),\n",
    "        gr.HTML(label=\"Disclaimer\")  # Removed placeholder argument\n",
    "    ],\n",
    "    title=\"Brain Tumor Detection and MRI Analysis\",\n",
    "    description=(\n",
    "        \"Upload an MRI image of the brain to get predictions from two advanced models. \"\n",
    "        \"The models will predict whether a brain tumor is present, along with the confidence percentage. \"\n",
    "        \"If a brain tumor is detected, please meet a physician immediately for further evaluation.\"\n",
    "    ),\n",
    "    theme=\"compact\",  # A more compact theme for a cleaner interface\n",
    "    live=True,  # Enable live updates for a more interactive experience\n",
    ")\n",
    "\n",
    "# Launch the interface with more styling\n",
    "gr_interface.launch()\n"
   ]
  },
  {
   "cell_type": "code",
   "execution_count": null,
   "id": "7c338146-05bf-43f9-9f7d-5538c6f4ec20",
   "metadata": {},
   "outputs": [],
   "source": []
  },
  {
   "cell_type": "code",
   "execution_count": null,
   "id": "fc1fb09c-936e-40b3-8270-31c00414f9ae",
   "metadata": {},
   "outputs": [],
   "source": []
  }
 ],
 "metadata": {
  "kernelspec": {
   "display_name": "Python 3 (ipykernel)",
   "language": "python",
   "name": "python3"
  },
  "language_info": {
   "codemirror_mode": {
    "name": "ipython",
    "version": 3
   },
   "file_extension": ".py",
   "mimetype": "text/x-python",
   "name": "python",
   "nbconvert_exporter": "python",
   "pygments_lexer": "ipython3",
   "version": "3.12.7"
  }
 },
 "nbformat": 4,
 "nbformat_minor": 5
}
